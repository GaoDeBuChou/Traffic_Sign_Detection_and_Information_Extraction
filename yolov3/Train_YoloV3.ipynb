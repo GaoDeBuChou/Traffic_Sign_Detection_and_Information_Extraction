{
 "cells": [
  {
   "cell_type": "markdown",
   "metadata": {
    "id": "wHBQcQzjD6HJ"
   },
   "source": [
    "# Train YOLO Using Custom Dataset on Google Colab GPU\n",
    "Credit to [Sergio Canu - Train YOLO to detect a custom object (online with free GPU)](https://pysource.com/2020/04/02/train-yolo-to-detect-a-custom-object-online-with-free-gpu/)\n",
    "\n",
    "## Check if NVDIA GPU is enabled"
   ]
  },
  {
   "cell_type": "code",
   "execution_count": null,
   "metadata": {
    "colab": {
     "base_uri": "https://localhost:8080/"
    },
    "executionInfo": {
     "elapsed": 361,
     "status": "ok",
     "timestamp": 1608276544181,
     "user": {
      "displayName": "Zhiyu Lei",
      "photoUrl": "https://lh3.googleusercontent.com/a-/AOh14GiZTAPdoEeW3hG0uJsMY611QpakuVdT_pOJxvXk=s64",
      "userId": "12328658371610848538"
     },
     "user_tz": 300
    },
    "id": "bwp6NIrsZZFP",
    "outputId": "6bbecfbf-f06c-4fdd-fb44-d747a869bad5"
   },
   "outputs": [],
   "source": [
    "!nvidia-smi"
   ]
  },
  {
   "cell_type": "markdown",
   "metadata": {
    "id": "-7VuGATLpZv7"
   },
   "source": [
    "## Connect to Google Drive\n",
    "Authorization code needed"
   ]
  },
  {
   "cell_type": "code",
   "execution_count": null,
   "metadata": {
    "id": "9e9ZW3sqMEPO"
   },
   "outputs": [],
   "source": [
    "from google.colab import drive\n",
    "drive.mount('/content/gdrive')\n",
    "!ln -s /content/gdrive/My\\ Drive/ /mydrive\n",
    "!ls /mydrive"
   ]
  },
  {
   "cell_type": "markdown",
   "metadata": {
    "id": "t7utW4in4azV"
   },
   "source": [
    "## Clone the Darknet\n"
   ]
  },
  {
   "cell_type": "code",
   "execution_count": null,
   "metadata": {
    "colab": {
     "base_uri": "https://localhost:8080/"
    },
    "executionInfo": {
     "elapsed": 23876,
     "status": "ok",
     "timestamp": 1608276657250,
     "user": {
      "displayName": "Zhiyu Lei",
      "photoUrl": "https://lh3.googleusercontent.com/a-/AOh14GiZTAPdoEeW3hG0uJsMY611QpakuVdT_pOJxvXk=s64",
      "userId": "12328658371610848538"
     },
     "user_tz": 300
    },
    "id": "e03U7Zi-qMr2",
    "outputId": "e7e60107-d29b-49a4-de62-6406d1eac23e"
   },
   "outputs": [],
   "source": [
    "!git clone https://github.com/AlexeyAB/darknet /mydrive/yolov3/darknet"
   ]
  },
  {
   "cell_type": "markdown",
   "metadata": {
    "id": "7gDOF3mU-TAn"
   },
   "source": [
    "## Compile Darknet using Nvidia GPU\n",
    "Change makefile to have GPU and OpenCV enabled"
   ]
  },
  {
   "cell_type": "code",
   "execution_count": null,
   "metadata": {
    "colab": {
     "base_uri": "https://localhost:8080/"
    },
    "executionInfo": {
     "elapsed": 74980,
     "status": "ok",
     "timestamp": 1608276747462,
     "user": {
      "displayName": "Zhiyu Lei",
      "photoUrl": "https://lh3.googleusercontent.com/a-/AOh14GiZTAPdoEeW3hG0uJsMY611QpakuVdT_pOJxvXk=s64",
      "userId": "12328658371610848538"
     },
     "user_tz": 300
    },
    "id": "5H-Taj06Tw1c",
    "outputId": "522c16ff-99f1-41fa-cd3a-06407b9e122e"
   },
   "outputs": [],
   "source": [
    "%cd /mydrive/yolov3/darknet\n",
    "!sed -i 's/OPENCV=0/OPENCV=1/' Makefile\n",
    "!sed -i 's/GPU=0/GPU=1/' Makefile\n",
    "!sed -i 's/CUDNN=0/CUDNN=1/' Makefile\n",
    "!make"
   ]
  },
  {
   "cell_type": "markdown",
   "metadata": {
    "id": "gAOLtA_qI9vF"
   },
   "source": [
    "## Configure Darknet network for training YOLO V3"
   ]
  },
  {
   "cell_type": "code",
   "execution_count": null,
   "metadata": {
    "executionInfo": {
     "elapsed": 1497,
     "status": "ok",
     "timestamp": 1608276779561,
     "user": {
      "displayName": "Zhiyu Lei",
      "photoUrl": "https://lh3.googleusercontent.com/a-/AOh14GiZTAPdoEeW3hG0uJsMY611QpakuVdT_pOJxvXk=s64",
      "userId": "12328658371610848538"
     },
     "user_tz": 300
    },
    "id": "Hrx8B8x6qe6U"
   },
   "outputs": [],
   "source": [
    "!cp cfg/yolov3.cfg cfg/yolov3_training.cfg\n",
    "!sed -i 's/batch=1/batch=64/' cfg/yolov3_training.cfg\n",
    "!sed -i 's/subdivisions=1/subdivisions=16/' cfg/yolov3_training.cfg\n",
    "!sed -i 's/max_batches = 500200/max_batches = 24000/' cfg/yolov3_training.cfg\n",
    "!sed -i '610 s@classes=80@classes=12@' cfg/yolov3_training.cfg\n",
    "!sed -i '696 s@classes=80@classes=12@' cfg/yolov3_training.cfg\n",
    "!sed -i '783 s@classes=80@classes=12@' cfg/yolov3_training.cfg\n",
    "!sed -i '603 s@filters=255@filters=51@' cfg/yolov3_training.cfg\n",
    "!sed -i '689 s@filters=255@filters=51@' cfg/yolov3_training.cfg\n",
    "!sed -i '776 s@filters=255@filters=51@' cfg/yolov3_training.cfg"
   ]
  },
  {
   "cell_type": "markdown",
   "metadata": {
    "id": "Dk8o_TEzuiHu"
   },
   "source": [
    "## Generate data files\n",
    "Source code modified from https://github.com/jakkcoder/training_yolo_custom_object_detection_files"
   ]
  },
  {
   "cell_type": "code",
   "execution_count": null,
   "metadata": {
    "colab": {
     "base_uri": "https://localhost:8080/"
    },
    "executionInfo": {
     "elapsed": 3672,
     "status": "ok",
     "timestamp": 1608276819962,
     "user": {
      "displayName": "Zhiyu Lei",
      "photoUrl": "https://lh3.googleusercontent.com/a-/AOh14GiZTAPdoEeW3hG0uJsMY611QpakuVdT_pOJxvXk=s64",
      "userId": "12328658371610848538"
     },
     "user_tz": 300
    },
    "id": "nnmwZdYAGih7",
    "outputId": "bbcc696b-2e18-4064-828e-26e0bd6b7616"
   },
   "outputs": [],
   "source": [
    "%cd /mydrive/yolov3\n",
    "!python data/creating-files-data-and-name.py\n",
    "!python data/creating-train-and-test-txt-files.py"
   ]
  },
  {
   "cell_type": "markdown",
   "metadata": {
    "id": "8Js95wMPvVaJ"
   },
   "source": [
    "## Download weights darknet model 53"
   ]
  },
  {
   "cell_type": "code",
   "execution_count": null,
   "metadata": {
    "colab": {
     "base_uri": "https://localhost:8080/"
    },
    "executionInfo": {
     "elapsed": 115253,
     "status": "ok",
     "timestamp": 1608276940380,
     "user": {
      "displayName": "Zhiyu Lei",
      "photoUrl": "https://lh3.googleusercontent.com/a-/AOh14GiZTAPdoEeW3hG0uJsMY611QpakuVdT_pOJxvXk=s64",
      "userId": "12328658371610848538"
     },
     "user_tz": 300
    },
    "id": "kwLdCCT_JSdx",
    "outputId": "22e2d9dd-e791-4730-bacb-d90ce3a108f9"
   },
   "outputs": [],
   "source": [
    "!wget https://pjreddie.com/media/files/darknet53.conv.74"
   ]
  },
  {
   "cell_type": "markdown",
   "metadata": {
    "id": "4xPMl1DMwE2v"
   },
   "source": [
    "## Start Training!"
   ]
  },
  {
   "cell_type": "code",
   "execution_count": null,
   "metadata": {
    "colab": {
     "base_uri": "https://localhost:8080/"
    },
    "executionInfo": {
     "elapsed": 6679853,
     "status": "ok",
     "timestamp": 1608283631185,
     "user": {
      "displayName": "Zhiyu Lei",
      "photoUrl": "https://lh3.googleusercontent.com/a-/AOh14GiZTAPdoEeW3hG0uJsMY611QpakuVdT_pOJxvXk=s64",
      "userId": "12328658371610848538"
     },
     "user_tz": 300
    },
    "id": "kHhViumhKA5f",
    "outputId": "9381902a-1482-4e62-8804-9050b7000979"
   },
   "outputs": [],
   "source": [
    "!darknet/darknet detector train data/labelled_data.data darknet/cfg/yolov3_training.cfg darknet53.conv.74 -dont_show"
   ]
  }
 ],
 "metadata": {
  "accelerator": "GPU",
  "colab": {
   "collapsed_sections": [],
   "name": "Train_YoloV3 .ipynb",
   "provenance": []
  },
  "kernelspec": {
   "display_name": "Python 3",
   "language": "python",
   "name": "python3"
  },
  "language_info": {
   "codemirror_mode": {
    "name": "ipython",
    "version": 3
   },
   "file_extension": ".py",
   "mimetype": "text/x-python",
   "name": "python",
   "nbconvert_exporter": "python",
   "pygments_lexer": "ipython3",
   "version": "3.8.4"
  }
 },
 "nbformat": 4,
 "nbformat_minor": 4
}
